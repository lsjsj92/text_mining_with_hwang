{
 "cells": [
  {
   "cell_type": "code",
   "execution_count": 1,
   "metadata": {},
   "outputs": [],
   "source": [
    "import os, json, glob, sys, numpy as np\n",
    "import pandas as pd\n"
   ]
  },
  {
   "cell_type": "code",
   "execution_count": 9,
   "metadata": {},
   "outputs": [],
   "source": [
    "data_6m = pd.read_csv('./datas_after_tokenizer/6m/6m_after_prepro.csv', header=None)"
   ]
  },
  {
   "cell_type": "code",
   "execution_count": 10,
   "metadata": {},
   "outputs": [
    {
     "data": {
      "text/html": [
       "<div>\n",
       "<style scoped>\n",
       "    .dataframe tbody tr th:only-of-type {\n",
       "        vertical-align: middle;\n",
       "    }\n",
       "\n",
       "    .dataframe tbody tr th {\n",
       "        vertical-align: top;\n",
       "    }\n",
       "\n",
       "    .dataframe thead th {\n",
       "        text-align: right;\n",
       "    }\n",
       "</style>\n",
       "<table border=\"1\" class=\"dataframe\">\n",
       "  <thead>\n",
       "    <tr style=\"text-align: right;\">\n",
       "      <th></th>\n",
       "      <th>0</th>\n",
       "      <th>1</th>\n",
       "      <th>2</th>\n",
       "    </tr>\n",
       "  </thead>\n",
       "  <tbody>\n",
       "    <tr>\n",
       "      <th>0</th>\n",
       "      <td>신문A8면</td>\n",
       "      <td>미 월 실업 최저 연 회 금리 인상 무게 오류 우회 위한 함수 추가 년 최저 수준 ...</td>\n",
       "      <td>1</td>\n",
       "    </tr>\n",
       "    <tr>\n",
       "      <th>1</th>\n",
       "      <td>2018-06-01</td>\n",
       "      <td>채용 비리 의혹 윤종규 금융 회장 지난달 소환 오류 우회 위한 함수 추가 머니 투데...</td>\n",
       "      <td>1</td>\n",
       "    </tr>\n",
       "    <tr>\n",
       "      <th>2</th>\n",
       "      <td>2018-06-01</td>\n",
       "      <td>검찰 채용 비리 의혹 윤종규 금융 지주 회장 지난달 소환 종합 오류 우회 위한 함수...</td>\n",
       "      <td>1</td>\n",
       "    </tr>\n",
       "    <tr>\n",
       "      <th>3</th>\n",
       "      <td>2018-06-01</td>\n",
       "      <td>대한항공 직원 연대 홍대 시민 갑 근절 목소리 높여 오류 우회 위한 함수 추가 아이...</td>\n",
       "      <td>1</td>\n",
       "    </tr>\n",
       "    <tr>\n",
       "      <th>4</th>\n",
       "      <td>2018-06-01</td>\n",
       "      <td>채용 비리 의혹 함영주 은행장 구속 영장 기각 오류 우회 위한 함수 추가 법원 피 ...</td>\n",
       "      <td>1</td>\n",
       "    </tr>\n",
       "  </tbody>\n",
       "</table>\n",
       "</div>"
      ],
      "text/plain": [
       "            0                                                  1  2\n",
       "0       신문A8면  미 월 실업 최저 연 회 금리 인상 무게 오류 우회 위한 함수 추가 년 최저 수준 ...  1\n",
       "1  2018-06-01  채용 비리 의혹 윤종규 금융 회장 지난달 소환 오류 우회 위한 함수 추가 머니 투데...  1\n",
       "2  2018-06-01  검찰 채용 비리 의혹 윤종규 금융 지주 회장 지난달 소환 종합 오류 우회 위한 함수...  1\n",
       "3  2018-06-01  대한항공 직원 연대 홍대 시민 갑 근절 목소리 높여 오류 우회 위한 함수 추가 아이...  1\n",
       "4  2018-06-01  채용 비리 의혹 함영주 은행장 구속 영장 기각 오류 우회 위한 함수 추가 법원 피 ...  1"
      ]
     },
     "execution_count": 10,
     "metadata": {},
     "output_type": "execute_result"
    }
   ],
   "source": [
    "data_6m.head()"
   ]
  },
  {
   "cell_type": "code",
   "execution_count": 11,
   "metadata": {},
   "outputs": [
    {
     "name": "stdout",
     "output_type": "stream",
     "text": [
      "201432\n"
     ]
    }
   ],
   "source": [
    "print(len(data_6m.iloc[:, 0]))"
   ]
  },
  {
   "cell_type": "code",
   "execution_count": 12,
   "metadata": {},
   "outputs": [
    {
     "name": "stdout",
     "output_type": "stream",
     "text": [
      "0    3\n",
      "1    0\n",
      "2    2\n",
      "3    2\n",
      "4    0\n",
      "5    0\n",
      "6    0\n",
      "7    2\n",
      "8    1\n",
      "9    0\n",
      "Name: 2, dtype: int64\n"
     ]
    }
   ],
   "source": [
    "df_6m = data_6m.sample(frac=1).reset_index(drop=True)\n",
    "print(df_6m.iloc[0:10,2])"
   ]
  },
  {
   "cell_type": "code",
   "execution_count": 13,
   "metadata": {},
   "outputs": [
    {
     "data": {
      "text/html": [
       "<div>\n",
       "<style scoped>\n",
       "    .dataframe tbody tr th:only-of-type {\n",
       "        vertical-align: middle;\n",
       "    }\n",
       "\n",
       "    .dataframe tbody tr th {\n",
       "        vertical-align: top;\n",
       "    }\n",
       "\n",
       "    .dataframe thead th {\n",
       "        text-align: right;\n",
       "    }\n",
       "</style>\n",
       "<table border=\"1\" class=\"dataframe\">\n",
       "  <thead>\n",
       "    <tr style=\"text-align: right;\">\n",
       "      <th></th>\n",
       "      <th>1</th>\n",
       "      <th>2</th>\n",
       "    </tr>\n",
       "  </thead>\n",
       "  <tbody>\n",
       "    <tr>\n",
       "      <th>0</th>\n",
       "      <td>좋 날 송승헌 방부제 미모 이미지 원본 송승헌 인 스타 헤럴드 고명진 기자 송승헌 ...</td>\n",
       "      <td>3</td>\n",
       "    </tr>\n",
       "    <tr>\n",
       "      <th>1</th>\n",
       "      <td>인사말 한 메이린 작가 오류 우회 위한 함수 추가 서울 뉴시스 박진희 기자 중국 현...</td>\n",
       "      <td>0</td>\n",
       "    </tr>\n",
       "    <tr>\n",
       "      <th>2</th>\n",
       "      <td>취재 수첩 피로감 말 규제 개혁 오류 우회 위한 함수 추가 이지현 바이오 헬스 기자...</td>\n",
       "      <td>2</td>\n",
       "    </tr>\n",
       "    <tr>\n",
       "      <th>3</th>\n",
       "      <td>통신 돋보기 이통 도입 주파수 뭐 길래 오류 우회 위한 함수 추가 아이 뉴스 아이 ...</td>\n",
       "      <td>2</td>\n",
       "    </tr>\n",
       "    <tr>\n",
       "      <th>4</th>\n",
       "      <td>유가족 위로 김성태 권한 대행 오류 우회 위한 함수 추가 서울 뉴스 허경 기자 김성...</td>\n",
       "      <td>0</td>\n",
       "    </tr>\n",
       "  </tbody>\n",
       "</table>\n",
       "</div>"
      ],
      "text/plain": [
       "                                                   1  2\n",
       "0  좋 날 송승헌 방부제 미모 이미지 원본 송승헌 인 스타 헤럴드 고명진 기자 송승헌 ...  3\n",
       "1  인사말 한 메이린 작가 오류 우회 위한 함수 추가 서울 뉴시스 박진희 기자 중국 현...  0\n",
       "2  취재 수첩 피로감 말 규제 개혁 오류 우회 위한 함수 추가 이지현 바이오 헬스 기자...  2\n",
       "3  통신 돋보기 이통 도입 주파수 뭐 길래 오류 우회 위한 함수 추가 아이 뉴스 아이 ...  2\n",
       "4  유가족 위로 김성태 권한 대행 오류 우회 위한 함수 추가 서울 뉴스 허경 기자 김성...  0"
      ]
     },
     "execution_count": 13,
     "metadata": {},
     "output_type": "execute_result"
    }
   ],
   "source": [
    "df_6m.iloc[0:5, 1:3]"
   ]
  },
  {
   "cell_type": "code",
   "execution_count": null,
   "metadata": {},
   "outputs": [],
   "source": []
  }
 ],
 "metadata": {
  "kernelspec": {
   "display_name": "Python 3",
   "language": "python",
   "name": "python3"
  },
  "language_info": {
   "codemirror_mode": {
    "name": "ipython",
    "version": 3
   },
   "file_extension": ".py",
   "mimetype": "text/x-python",
   "name": "python",
   "nbconvert_exporter": "python",
   "pygments_lexer": "ipython3",
   "version": "3.6.5"
  }
 },
 "nbformat": 4,
 "nbformat_minor": 2
}
