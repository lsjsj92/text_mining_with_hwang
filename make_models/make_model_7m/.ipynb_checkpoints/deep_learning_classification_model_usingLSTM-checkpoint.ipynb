{
 "cells": [
  {
   "cell_type": "code",
   "execution_count": 2,
   "metadata": {},
   "outputs": [
    {
     "name": "stderr",
     "output_type": "stream",
     "text": [
      "C:\\Users\\leesoojin\\Anaconda3\\lib\\site-packages\\h5py\\__init__.py:36: FutureWarning: Conversion of the second argument of issubdtype from `float` to `np.floating` is deprecated. In future, it will be treated as `np.float64 == np.dtype(float).type`.\n",
      "  from ._conv import register_converters as _register_converters\n",
      "Using TensorFlow backend.\n"
     ]
    }
   ],
   "source": [
    "import os, json, glob, sys, numpy as np\n",
    "import pandas as pd\n",
    "import matplotlib.pyplot as plt\n",
    "import matplotlib as mpl\n",
    "import keras.backend.tensorflow_backend as K\n",
    "import tensorflow as tf\n",
    "from keras.preprocessing.text import Tokenizer\n",
    "from keras.preprocessing.sequence import pad_sequences\n",
    "from keras.preprocessing import sequence\n",
    "from keras.models import Sequential\n",
    "from keras.layers import Dense, Embedding, LSTM, Flatten, Dropout, Input, Conv1D, MaxPooling1D, GlobalMaxPool1D\n",
    "from keras.utils import np_utils\n",
    "from keras.callbacks import EarlyStopping, ModelCheckpoint\n",
    "from sklearn.model_selection import train_test_split\n",
    "\n",
    "config = tf.ConfigProto()\n",
    "config.gpu_options.allow_growth = True\n",
    "session = tf.Session(config=config)"
   ]
  },
  {
   "cell_type": "code",
   "execution_count": 3,
   "metadata": {},
   "outputs": [],
   "source": [
    "data = pd.read_csv('7m_after_prepro.csv')"
   ]
  },
  {
   "cell_type": "code",
   "execution_count": 4,
   "metadata": {},
   "outputs": [
    {
     "name": "stdout",
     "output_type": "stream",
     "text": [
      "   2018-06-01  \\\n",
      "0  2018-06-01   \n",
      "1  2018-06-01   \n",
      "2  2018-06-01   \n",
      "3       신문A2면   \n",
      "4  2018-06-01   \n",
      "\n",
      "  종대 신구 총장 사익 추구 전혀 없 오류 우회 위한 함수 추가 교육부 사립대 소송 경비 집행 원칙 부합 해명 지디 넷 코리아 방은주 기자 종대 서울 중앙지 검 지난 일 총장 사립 학교 법 위반 및 업무상 횡령 혐의 구속 기소 대해 신구 총장 임기 동안 사익 추구 전혀 없 일 해명 했 종대 총장 재임 기간 기관 대학 교육 자산 박물관 유물 원 가치 모두 인도 라는 소송 기숙사 신축 과정 선정 사업자 지불 해 교비 편입 입찰 보증금 원 반환 라는 소송 대학 구입 건물 강의실 학생 동아리 실 사용 위한 명도 소송 부당 연봉 인상 요구 소송 이 대해 종대 유물 관련 소송 법원 최종 승소 해 박물관 유물 소중 학교 교육 자산 모두 지켰 그 학교 건물 명도 소송 승소 현재 교육 사용 입찰 보증금 원 원 교비 지출 대학 재정 도움 설명 했 종대 교육 재산 관련 소송 순수 대학 업무 법인 무관 소송비용 당연히 교비 지출 없 종대 소송비용 지출 교육부 사립 대학 소송 경비 집행 원칙 부합 법률 전문가 자문 지출 해명 했 교육부 집행 원칙 다르 검찰 소송 비용 교비 지출 안 된다고 전제 지출 총장 개인 업무 횡령 기소 설명 종대 이 교비 지출 허용 범위 오해 법원 바로 잡힐 확신 한다 덧붙였 이 어 종대 신구 총장 재임 년 간 개인 이익 추구 경우 전혀 없 대학 발전 매진 했 결과 종대 년 아시아 대 대학 진입 했 현재 명 해외 유학생 는 명문 대학 발 했 밝혔 방은주 기자 네이버 채널 지디 넷 코리아 구독 해 종대 진대제 정통부 장관 초청 차 산업 혁명 강연   \\\n",
      "0  서울 경제 체 험기 전자 스마트폰 씽 큐 써 오류 우회 위한 함수 추가 서울 경제 ...                                                                                                                                                                                                                                                                                                                                                                                                                                                                                                                                                                                                                                                                                                                                            \n",
      "1  문체 부 미래 지향 게임 선용 정책 필요 오류 우회 위한 함수 추가 아이 뉴스 아이...                                                                                                                                                                                                                                                                                                                                                                                                                                                                                                                                                                                                                                                                                                                                            \n",
      "2  게임 학술 대회 개최 문화부 조현래 국장 게임 포비 아 극복 당면 과제 오류 우회 ...                                                                                                                                                                                                                                                                                                                                                                                                                                                                                                                                                                                                                                                                                                                                            \n",
      "3  모바일 한경 연남동 제주 맥주 팝업 가 등 오류 우회 위한 함수 추가 모바일 한경 ...                                                                                                                                                                                                                                                                                                                                                                                                                                                                                                                                                                                                                                                                                                                                            \n",
      "4  히어로즈 오브 더 스톰 글로벌 대회 미드 시즌 난투 일 스웨덴 개막 오류 우회 위한...                                                                                                                                                                                                                                                                                                                                                                                                                                                                                                                                                                                                                                                                                                                                            \n",
      "\n",
      "   2  \n",
      "0  2  \n",
      "1  2  \n",
      "2  2  \n",
      "3  2  \n",
      "4  2  \n"
     ]
    }
   ],
   "source": [
    "print(data.head())"
   ]
  },
  {
   "cell_type": "code",
   "execution_count": 5,
   "metadata": {},
   "outputs": [
    {
     "name": "stdout",
     "output_type": "stream",
     "text": [
      "100792\n"
     ]
    }
   ],
   "source": [
    "print(len(data.iloc[:, 0]))"
   ]
  },
  {
   "cell_type": "markdown",
   "metadata": {},
   "source": [
    "10만개의 데이터."
   ]
  },
  {
   "cell_type": "code",
   "execution_count": 6,
   "metadata": {},
   "outputs": [
    {
     "name": "stdout",
     "output_type": "stream",
     "text": [
      "55243    3\n",
      "27321    1\n",
      "28633    1\n",
      "90971    0\n",
      "41017    3\n",
      "16142    2\n",
      "94475    0\n",
      "55328    3\n",
      "39028    3\n",
      "10476    2\n",
      "Name: 2, dtype: int64\n"
     ]
    }
   ],
   "source": [
    "df = data.sample(frac=1)\n",
    "print(df.iloc[0:10,2])"
   ]
  },
  {
   "cell_type": "code",
   "execution_count": 7,
   "metadata": {},
   "outputs": [
    {
     "name": "stdout",
     "output_type": "stream",
     "text": [
      "0    3\n",
      "1    1\n",
      "2    2\n",
      "3    2\n",
      "4    1\n",
      "5    3\n",
      "6    1\n",
      "7    2\n",
      "8    1\n",
      "9    0\n",
      "Name: 2, dtype: int64\n"
     ]
    }
   ],
   "source": [
    "df2 = data.sample(frac=1).reset_index(drop=True)\n",
    "print(df2.iloc[0:10,2])"
   ]
  },
  {
   "cell_type": "code",
   "execution_count": 8,
   "metadata": {},
   "outputs": [
    {
     "name": "stdout",
     "output_type": "stream",
     "text": [
      "100792\n"
     ]
    }
   ],
   "source": [
    "print(len(df2.iloc[:, 0]))"
   ]
  },
  {
   "cell_type": "markdown",
   "metadata": {},
   "source": [
    "# df2  로 진행!"
   ]
  },
  {
   "cell_type": "code",
   "execution_count": 9,
   "metadata": {},
   "outputs": [],
   "source": [
    "X = df2.iloc[:, 1].values\n",
    "y = df2.iloc[:, 2].values"
   ]
  },
  {
   "cell_type": "code",
   "execution_count": 10,
   "metadata": {},
   "outputs": [
    {
     "name": "stdout",
     "output_type": "stream",
     "text": [
      "100792 100792\n"
     ]
    }
   ],
   "source": [
    "print(len(X), len(y))"
   ]
  },
  {
   "cell_type": "code",
   "execution_count": 11,
   "metadata": {},
   "outputs": [
    {
     "name": "stdout",
     "output_type": "stream",
     "text": [
      "4\n",
      "[[0. 0. 0. 1.]\n",
      " [0. 1. 0. 0.]\n",
      " [0. 0. 1. 0.]\n",
      " ...\n",
      " [0. 1. 0. 0.]\n",
      " [0. 0. 0. 1.]\n",
      " [0. 0. 0. 1.]]\n"
     ]
    }
   ],
   "source": [
    "nb_classes = len(set(y))\n",
    "print(nb_classes)\n",
    "y = np_utils.to_categorical(y, nb_classes)\n",
    "print(y)"
   ]
  },
  {
   "cell_type": "code",
   "execution_count": 15,
   "metadata": {},
   "outputs": [
    {
     "name": "stdout",
     "output_type": "stream",
     "text": [
      "92158\n"
     ]
    }
   ],
   "source": [
    "#? 10만개 데이터는 무난하게 들어가네?\n",
    "\n",
    "max_word = 5000\n",
    "max_len = 500\n",
    "\n",
    "tok = Tokenizer(num_words = max_word)\n",
    "tok.fit_on_texts(X)\n",
    "print(len(tok.word_index))\n",
    "\n",
    "\n",
    "#여기서 4개 파일 전부 tok.fit_on_texts() 하고나서 넘어가기.\n"
   ]
  },
  {
   "cell_type": "markdown",
   "metadata": {},
   "source": [
    "# 그리고 sequences나 이런것들 월별로 다 따로하고 훈련을 다 따로 시킨다."
   ]
  },
  {
   "cell_type": "code",
   "execution_count": 13,
   "metadata": {},
   "outputs": [
    {
     "name": "stdout",
     "output_type": "stream",
     "text": [
      "157\n",
      "[150, 659, 50, 1845, 667, 627, 3073, 832, 19, 3, 922, 15, 278, 31, 37, 659, 50, 1845, 667, 1, 19, 3, 922, 1, 150, 659, 50, 1845, 667, 627, 115, 3073, 1476, 3, 1476, 127, 587, 61, 356, 1980, 150, 659, 50, 1845, 667, 627, 115, 3073, 832, 26, 52, 3103, 922, 150, 659, 50, 3279, 3074, 55, 6, 1476, 61, 66, 1648, 958, 105, 3511, 942, 175, 703, 652, 713, 44, 1471, 243, 150, 1789, 697, 4690, 717, 72, 627, 115, 1698, 3073, 1, 150, 296, 2, 42, 659, 50, 1845, 667, 818, 620, 108, 1196, 1899, 2485, 4303, 64, 8, 84, 463, 1028, 1, 4562, 446, 4786, 1184, 667, 1, 152, 3549, 57, 101, 2664, 101, 280, 4544, 183, 659, 50, 1845, 667, 134, 2721, 3561, 3846, 4984, 4428, 164, 1, 19, 3, 922, 28, 24, 150, 659, 50, 1845, 667, 5, 15, 58, 80, 70, 2453, 15, 278, 14, 16, 10, 12, 11]\n"
     ]
    }
   ],
   "source": [
    "sequences = tok.texts_to_sequences(X)\n",
    "print(len(sequences[0]))\n",
    "print(sequences[0])"
   ]
  },
  {
   "cell_type": "code",
   "execution_count": 14,
   "metadata": {},
   "outputs": [
    {
     "name": "stdout",
     "output_type": "stream",
     "text": [
      "92158\n"
     ]
    }
   ],
   "source": [
    "print(len(tok.word_index))"
   ]
  },
  {
   "cell_type": "code",
   "execution_count": 34,
   "metadata": {},
   "outputs": [
    {
     "name": "stdout",
     "output_type": "stream",
     "text": [
      "[[   0    0    0 ...   20   24   22]\n",
      " [   0    0    0 ...   20   24   22]\n",
      " [   0    0    0 ...   20   24   22]\n",
      " ...\n",
      " [   0    0    0 ... 1437   24   22]\n",
      " [   0    0    0 ...   28   24   22]\n",
      " [ 140  563 1343 ...   20   24   22]]\n",
      "[   0    0    0    0    0    0    0    0    0    0    0    0    0    0\n",
      "    0    0    0    0    0    0    0    0    0    0    0    0    0    0\n",
      "    0    0    0    0    0    0    0    0    0    0    0    0    0    0\n",
      "    0    0    0    0    0    0    0    0    0    0    0    0    0    0\n",
      "    0    0    0    0    0    0    0    0    0    0    0    0    0    0\n",
      "    0    0    0    0    0    0    0    0    0    0    0    0    0    0\n",
      "    0    0    0    0    0    0    0    0    0    0    0    0    0    0\n",
      "    0    0    0    0    0    0    0    0    0    0    0    0    0    0\n",
      "    0    0    0    0    0    0    0    0    0    0    0    0    0    0\n",
      "    0    0    0    0    0    0    0    0    0    0    0    0    0    0\n",
      "    0    0    0    0    0    0    0    0    0    0    0    0    0    0\n",
      "    0    0    0    0    0    0    0    0    0    0    0    0    0    0\n",
      "    0    0    0    0    0    0    0    0    0    0    0    0    0    0\n",
      "    0    0    0    0    0    0    0    0    0    0    0    0    0    0\n",
      "    0    0    0    0    0    0    0    0    0    0    0    0    0    0\n",
      "    0    0    0    0    0    0    0    0    0    0    0    0    0    0\n",
      "    0    0    0    0    0    0    0    0    0    0    0    0    0    0\n",
      "    0    0    0    0    0    0    0    0    0    0    0    0    0    0\n",
      "    0    0    0    0    0    0    0    0    0    0    0    0    0    0\n",
      "    0    0    0    0    0    0    0    0    0    0    0    0    0    0\n",
      "    0    0    0    0    0    0    0    0    0    0    0    0    0    0\n",
      "    0    0    0    0    0    0    0    0    0    0    0    0    0    0\n",
      "    0    0    0    0    0    0    0    0    0    0    0    0    0    0\n",
      "    0    0    0    0    0    0    0    0    0    0    0    0    0    0\n",
      "    0    0    0    0    0    0    0    0    0    0    0    0    0    0\n",
      "    0    0    0    0    0    0    0    0    0    0    0    0    0    0\n",
      "    0    0    0    0    0    0    0    0    0    0    0    0    0    0\n",
      "    0    0    0    0    0    0    0    0    0    0    0    0    0    0\n",
      "    0    0    0  551  694 1466 2320   46   54  551  694 1466 2320  527\n",
      "  639  694 1805    5   10  527  639    6    1  694    2  130  733  154\n",
      " 1404  266    8   21   37 1306  523  411    1   11 1805    5  507  381\n",
      "    5  358 1093    8   17    1  771   21   11  694 1466    5   38    2\n",
      "  551 1637    3  239  229  226    5    4  448    1  483   77 2320    7\n",
      "   17  332    1  160    2   37 1313    5   55 1306   17  694 2552   13\n",
      "  639  229  973  181  148 3360   92 2812  967  589   61  572    1   92\n",
      " 2977 1585 1887  569 3329   26   28   20   24   22]\n",
      "500\n"
     ]
    }
   ],
   "source": [
    "sequences_matrix = sequence.pad_sequences(sequences, maxlen=max_len)\n",
    "print(sequences_matrix)\n",
    "print(sequences_matrix[0])\n",
    "print(len(sequences_matrix[0]))"
   ]
  },
  {
   "cell_type": "code",
   "execution_count": 35,
   "metadata": {},
   "outputs": [
    {
     "name": "stdout",
     "output_type": "stream",
     "text": [
      "92607\n",
      "(80633, 500)\n",
      "(80633, 4)\n"
     ]
    }
   ],
   "source": [
    "print(len(tok.word_index))\n",
    "\n",
    "X_train, X_test, y_train, y_test = train_test_split(sequences_matrix, y, test_size=0.2)\n",
    "\n",
    "print(X_train.shape)\n",
    "print(y_train.shape)"
   ]
  },
  {
   "cell_type": "code",
   "execution_count": 36,
   "metadata": {},
   "outputs": [],
   "source": [
    "with K.tf_ops.device('/device:GPU:0'):\n",
    "    model = Sequential()\n",
    "    \n",
    "    model.add(Embedding(max_word, 64, input_length=max_len))\n",
    "    model.add(LSTM(60, return_sequences=True))\n",
    "    model.add(GlobalMaxPool1D())\n",
    "    model.add(Dropout(0.2))\n",
    "    model.add(Dense(50, activation='relu'))\n",
    "    model.add(Dropout(0.5))\n",
    "    model.add(Dense(nb_classes, activation='softmax'))\n",
    "    model.compile(loss='categorical_crossentropy', optimizer='adam', metrics=['accuracy'])\n",
    "    model_dir = './model'\n",
    "    if not os.path.exists(model_dir):\n",
    "        os.mkdir(model_dir)\n",
    "    model_path = model_dir + \"/hwang_lstm.model\"\n",
    "    checkpoint = ModelCheckpoint(filepath=model_path, monitor=\"val_loss\", verbose=1, save_best_only=True)\n",
    "\n",
    "    early_stopping = EarlyStopping(monitor='val_loss', patience=7)"
   ]
  },
  {
   "cell_type": "code",
   "execution_count": 37,
   "metadata": {},
   "outputs": [
    {
     "name": "stdout",
     "output_type": "stream",
     "text": [
      "_________________________________________________________________\n",
      "Layer (type)                 Output Shape              Param #   \n",
      "=================================================================\n",
      "embedding_1 (Embedding)      (None, 500, 64)           320000    \n",
      "_________________________________________________________________\n",
      "lstm_1 (LSTM)                (None, 500, 60)           30000     \n",
      "_________________________________________________________________\n",
      "global_max_pooling1d_1 (Glob (None, 60)                0         \n",
      "_________________________________________________________________\n",
      "dropout_1 (Dropout)          (None, 60)                0         \n",
      "_________________________________________________________________\n",
      "dense_1 (Dense)              (None, 50)                3050      \n",
      "_________________________________________________________________\n",
      "dropout_2 (Dropout)          (None, 50)                0         \n",
      "_________________________________________________________________\n",
      "dense_2 (Dense)              (None, 4)                 204       \n",
      "=================================================================\n",
      "Total params: 353,254\n",
      "Trainable params: 353,254\n",
      "Non-trainable params: 0\n",
      "_________________________________________________________________\n"
     ]
    }
   ],
   "source": [
    "model.summary()"
   ]
  },
  {
   "cell_type": "code",
   "execution_count": 39,
   "metadata": {},
   "outputs": [
    {
     "name": "stdout",
     "output_type": "stream",
     "text": [
      "Train on 64506 samples, validate on 16127 samples\n",
      "Epoch 1/20\n",
      "64506/64506 [==============================] - 101s 2ms/step - loss: 0.6062 - acc: 0.7623 - val_loss: 0.2408 - val_acc: 0.9216\n",
      "\n",
      "Epoch 00001: val_loss improved from inf to 0.24078, saving model to ./model/predict_korea_news_LSTM.model\n",
      "Epoch 2/20\n",
      "64506/64506 [==============================] - 100s 2ms/step - loss: 0.2393 - acc: 0.9206 - val_loss: 0.1634 - val_acc: 0.9407\n",
      "\n",
      "Epoch 00002: val_loss improved from 0.24078 to 0.16343, saving model to ./model/predict_korea_news_LSTM.model\n",
      "Epoch 3/20\n",
      "64506/64506 [==============================] - 99s 2ms/step - loss: 0.1744 - acc: 0.9468 - val_loss: 0.1462 - val_acc: 0.9500\n",
      "\n",
      "Epoch 00003: val_loss improved from 0.16343 to 0.14623, saving model to ./model/predict_korea_news_LSTM.model\n",
      "Epoch 4/20\n",
      "64506/64506 [==============================] - 99s 2ms/step - loss: 0.1351 - acc: 0.9605 - val_loss: 0.1389 - val_acc: 0.9539\n",
      "\n",
      "Epoch 00004: val_loss improved from 0.14623 to 0.13885, saving model to ./model/predict_korea_news_LSTM.model\n",
      "Epoch 5/20\n",
      "64506/64506 [==============================] - 99s 2ms/step - loss: 0.1137 - acc: 0.9667 - val_loss: 0.1337 - val_acc: 0.9567\n",
      "\n",
      "Epoch 00005: val_loss improved from 0.13885 to 0.13371, saving model to ./model/predict_korea_news_LSTM.model\n",
      "Epoch 6/20\n",
      "64506/64506 [==============================] - 98s 2ms/step - loss: 0.1098 - acc: 0.9690 - val_loss: 0.1318 - val_acc: 0.9568\n",
      "\n",
      "Epoch 00006: val_loss improved from 0.13371 to 0.13178, saving model to ./model/predict_korea_news_LSTM.model\n",
      "Epoch 7/20\n",
      "64506/64506 [==============================] - 101s 2ms/step - loss: 0.0891 - acc: 0.9750 - val_loss: 0.1454 - val_acc: 0.9560\n",
      "\n",
      "Epoch 00007: val_loss did not improve from 0.13178\n",
      "Epoch 8/20\n",
      "64506/64506 [==============================] - 105s 2ms/step - loss: 0.0777 - acc: 0.9778 - val_loss: 0.1398 - val_acc: 0.9588\n",
      "\n",
      "Epoch 00008: val_loss did not improve from 0.13178\n",
      "Epoch 9/20\n",
      "64506/64506 [==============================] - 104s 2ms/step - loss: 0.0720 - acc: 0.9790 - val_loss: 0.1402 - val_acc: 0.9594\n",
      "\n",
      "Epoch 00009: val_loss did not improve from 0.13178\n",
      "Epoch 10/20\n",
      "64506/64506 [==============================] - 103s 2ms/step - loss: 0.0661 - acc: 0.9809 - val_loss: 0.1498 - val_acc: 0.9563\n",
      "\n",
      "Epoch 00010: val_loss did not improve from 0.13178\n",
      "Epoch 11/20\n",
      "64506/64506 [==============================] - 105s 2ms/step - loss: 0.0616 - acc: 0.9829 - val_loss: 0.1523 - val_acc: 0.9584\n",
      "\n",
      "Epoch 00011: val_loss did not improve from 0.13178\n",
      "Epoch 12/20\n",
      "64506/64506 [==============================] - 102s 2ms/step - loss: 0.0526 - acc: 0.9849 - val_loss: 0.1596 - val_acc: 0.9568\n",
      "\n",
      "Epoch 00012: val_loss did not improve from 0.13178\n",
      "Epoch 13/20\n",
      "64506/64506 [==============================] - 101s 2ms/step - loss: 0.0514 - acc: 0.9851 - val_loss: 0.1720 - val_acc: 0.9560\n",
      "\n",
      "Epoch 00013: val_loss did not improve from 0.13178\n"
     ]
    }
   ],
   "source": [
    "hist = model.fit(X_train, y_train, batch_size=500, epochs=20, validation_split=0.2, callbacks=[checkpoint, early_stopping])"
   ]
  },
  {
   "cell_type": "code",
   "execution_count": 40,
   "metadata": {},
   "outputs": [
    {
     "name": "stdout",
     "output_type": "stream",
     "text": [
      "20159/20159 [==============================] - 159s 8ms/step\n",
      "정확도 : 0.9587\n"
     ]
    }
   ],
   "source": [
    "print(\"정확도 : %.4f\" % (model.evaluate(X_test, y_test)[1]))"
   ]
  },
  {
   "cell_type": "code",
   "execution_count": 41,
   "metadata": {},
   "outputs": [
    {
     "data": {
      "image/png": "[encoded data removed]",
      "text/plain": [
       "<Figure size 432x288 with 1 Axes>"
      ]
     },
     "metadata": {},
     "output_type": "display_data"
    }
   ],
   "source": [
    "y_vloss = hist.history['val_loss']\n",
    "y_loss = hist.history['loss']\n",
    "\n",
    "x_len = np.arange(len(y_loss))\n",
    "\n",
    "plt.plot(x_len, y_vloss, marker='.', c='red', label='val_set_loss')\n",
    "plt.plot(x_len, y_loss, marker='.', c='blue', label='train_set_oss')\n",
    "plt.legend()\n",
    "plt.xlabel('epochs')\n",
    "plt.ylabel('loss')\n",
    "plt.grid()\n",
    "plt.show()"
   ]
  },
  {
   "cell_type": "code",
   "execution_count": 42,
   "metadata": {},
   "outputs": [
    {
     "data": {
      "image/png": "[encoded data removed]",
      "text/plain": [
       "<Figure size 432x288 with 1 Axes>"
      ]
     },
     "metadata": {},
     "output_type": "display_data"
    }
   ],
   "source": [
    "y_vloss = hist.history['val_acc']\n",
    "y_loss = hist.history['acc']\n",
    "\n",
    "x_len = np.arange(len(y_loss))\n",
    "\n",
    "plt.plot(x_len, y_vloss, marker='.', c='red', label='val_set_loss')\n",
    "plt.plot(x_len, y_loss, marker='.', c='blue', label='train_set_oss')\n",
    "plt.legend()\n",
    "plt.xlabel('epochs')\n",
    "plt.ylabel('loss')\n",
    "plt.grid()\n",
    "plt.show()"
   ]
  },
  {
   "cell_type": "code",
   "execution_count": null,
   "metadata": {},
   "outputs": [],
   "source": []
  }
 ],
 "metadata": {
  "kernelspec": {
   "display_name": "Python 3",
   "language": "python",
   "name": "python3"
  },
  "language_info": {
   "codemirror_mode": {
    "name": "ipython",
    "version": 3
   },
   "file_extension": ".py",
   "mimetype": "text/x-python",
   "name": "python",
   "nbconvert_exporter": "python",
   "pygments_lexer": "ipython3",
   "version": "3.6.5"
  }
 },
 "nbformat": 4,
 "nbformat_minor": 2
}
